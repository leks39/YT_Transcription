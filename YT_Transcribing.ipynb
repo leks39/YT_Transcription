{
 "cells": [
  {
   "cell_type": "markdown",
   "id": "64019d82-0243-4904-8cac-2d95118c9f82",
   "metadata": {},
   "source": [
    "### Transcribing Youtube Videos using Python"
   ]
  },
  {
   "cell_type": "markdown",
   "id": "4c387771-f248-4326-a21f-c4098517afe8",
   "metadata": {},
   "source": [
    "Python is a versatile language that can be used for a variety of tasks, including transcription of Youtube videos. In a recent ad hoc task, I learned how to transcribe videos using Python in just five simple steps. \n",
    "\n",
    "\n",
    "To get started, you'll need to install the \"youtube_transcript_api\" library and obtain the URL of the video you want to transcribe. For my exercise, I selected a video from the Youtube channel of Jessica Stansberry titled \"How to Transcribe Videos + Why You Should.\" \n",
    "\n",
    "\n",
    "The five steps are as follows: \n",
    "\n",
    "1. Import the newly installed youtube_transcript_api library\n",
    "\n",
    "2. Define a function that takes a YouTube video URL as input and returns the transcription of the video\n",
    "\n",
    "3. Include a try-except block in the return section to handle any errors in transcription\n",
    "\n",
    "4. Save the video URL to be transcribed to a variable, then call the yt_video_transcriber function with the provided URL and store the result in another variable\n",
    "\n",
    "5. Print the transcription\n",
    "\n",
    "\n",
    "Learning how to transcribe YouTube videos can take less than 10 minutes, and you can also sneak in the use of functions described earlier in the week. Give it a try to see if it works!"
   ]
  },
  {
   "cell_type": "markdown",
   "id": "d9b8fc53-6308-496d-9f9f-3fd189b61b03",
   "metadata": {},
   "source": [
    "#### 1.Installing Library"
   ]
  },
  {
   "cell_type": "code",
   "execution_count": 1,
   "id": "0a1a8f4b-c830-4876-a358-74dcaef05845",
   "metadata": {},
   "outputs": [
    {
     "name": "stdout",
     "output_type": "stream",
     "text": [
      "Collecting youtube-transcript-api\n",
      "  Downloading youtube_transcript_api-0.6.2-py3-none-any.whl (24 kB)\n",
      "Requirement already satisfied: requests in c:\\users\\user\\anaconda3\\lib\\site-packages (from youtube-transcript-api) (2.28.1)\n",
      "Requirement already satisfied: charset-normalizer<3,>=2 in c:\\users\\user\\anaconda3\\lib\\site-packages (from requests->youtube-transcript-api) (2.0.4)\n",
      "Requirement already satisfied: urllib3<1.27,>=1.21.1 in c:\\users\\user\\anaconda3\\lib\\site-packages (from requests->youtube-transcript-api) (1.26.14)\n",
      "Requirement already satisfied: certifi>=2017.4.17 in c:\\users\\user\\anaconda3\\lib\\site-packages (from requests->youtube-transcript-api) (2023.7.22)\n",
      "Requirement already satisfied: idna<4,>=2.5 in c:\\users\\user\\anaconda3\\lib\\site-packages (from requests->youtube-transcript-api) (3.4)\n",
      "Installing collected packages: youtube-transcript-api\n",
      "Successfully installed youtube-transcript-api-0.6.2\n",
      "Note: you may need to restart the kernel to use updated packages.\n"
     ]
    }
   ],
   "source": [
    "pip install youtube-transcript-api"
   ]
  },
  {
   "cell_type": "markdown",
   "id": "f04f6156-7bd9-4dd8-9f8f-1589223e8988",
   "metadata": {},
   "source": [
    "#### 2. Code - Broken down to 5 Steps"
   ]
  },
  {
   "cell_type": "code",
   "execution_count": 4,
   "id": "ff5c19c6-4177-4140-a06b-4951fa71f8ca",
   "metadata": {},
   "outputs": [
    {
     "name": "stdout",
     "output_type": "stream",
     "text": [
      "Transcription:\n",
      "okay so why should you have your videos transcribed and how do you have them transcribed that's what we're talking about today stay tuned welcome back to this channel I'm your host Jessica Stansberry and I want to help you be more vids loo intial by adding video to your marketing strategy and plan because it's awesome it will make your business awesome and you will love me forever just saying I would love for you to hit subscribe because that's how I measure my worth in this life is about how many subscribers I have on YouTube so hit subscribe alright so today I'm chatting about why you should be transcribing your videos and how to actually do it now transcription of your videos is something that a lot of people talk about like you should transcribe your videos you should be making sure that they have captions and you totally should however I will say that people make it sound harder than it is so there's a couple of things you need to know one is that on Facebook and on YouTube the platforms themselves will actually transcribe them automatically for you all you have to do on Facebook is go into your video and tell it you want to add captions and on YouTube it does it automatically now the problem there is a lot of times it doesn't understand you one time I recorded a video and in that video I said hey guys the transcription kept saying hi Debra I was like what in the heck like I don't even understand like I just don't get it so sometimes it could not be correct but those platforms do transcribe for you so that is one really easy way to transcribe your videos the other way is to have an actual person do this for you a transcriptionist you know maybe you could find them on Fiverr or some other platform like upwork or you could use a service like rev.com and that's our Evie com this service is $1.00 per minute a video to transcribe it so for the most part it's pretty inexpensive and then you can upload that file to the platforms instead of using the automated version because it will tend to be and more accurate and they removed things like hums and ands that don't really make a lot of sense so it's a really good one to check out too but now that you know how to transcribe your videos the question might be why should you I want to take this platform to platform so Facebook let's talk about Facebook with Facebook a huge percentage of the video viewers on Facebook eighty some percentage of the video viewers on Facebook watch videos without sound and I know that sounds crazy but I also know you've done it just as much as I've done it you're scrolling through Facebook at night when you're laying in bed and you don't want to wake up your spouse with like a loud blaring video so you just kind of watch the captions or you just watch it and you don't even think about it you're just reading the captions you just don't think oh I need to turn the sound on but a huge percentage of the viewers of videos on Facebook are watching with just the captions so that is a number one why you need the captions on Facebook but now on YouTube one it makes sure that anybody that is hearing-impaired can still watch your videos because you don't want to exclude any type of you know audience from your videos who might actually need them the other thing with YouTube is that that turn inscription throws the keywords into Google universe as well as your tags and your titles and your descriptions on YouTube so if you are actually saying the title of your video then it matches the title of your video and it matches a tag and YouTube can see that those keywords are being used in the video based on your transcription they are going to rank you higher it's a thing so it's necessary it can happen automatically or you can have a service do it for you at a better quality but it's totally something you should be doing okay so question of the day are you putting captions on your videos if so comment below and let me know because I think that's awesome and if you're not comment below and let me know what's you know what's taking you so long and until next time bye y'all\n"
     ]
    }
   ],
   "source": [
    "#Step 1 - import installed library\n",
    "from youtube_transcript_api import YouTubeTranscriptApi\n",
    "\n",
    "#Step 2 - define function\n",
    "def yt_video_transcriber(video_url):\n",
    "    try:\n",
    "        video_id = video_url.split(\"v=\")[1]\n",
    "        transcript = YouTubeTranscriptApi.get_transcript(video_id)\n",
    "\n",
    "        # Combine the text from each transcript entry\n",
    "        full_text = ' '.join([entry['text'] for entry in transcript])\n",
    "\n",
    "        return full_text\n",
    "    #Step 3 - try-except block\n",
    "    except Exception as e:\n",
    "        print(f\"Error: {e}\")\n",
    "        return None\n",
    "\n",
    "# Step 4 - save URL to a variable then call function in Step 2 to transcribe URL\n",
    "video_url = 'https://www.youtube.com/watch?v=jFsDJcBL5Nk'\n",
    "transcription = yt_video_transcriber(video_url)\n",
    "\n",
    "#Step 5 - print transcript\n",
    "if transcription:\n",
    "    print(\"Transcription:\")\n",
    "    print(transcription)\n",
    "else:\n",
    "    print(\"Failed to transcribe the video.\")\n"
   ]
  },
  {
   "cell_type": "code",
   "execution_count": null,
   "id": "08ef99f9-250b-4900-b071-6959d8521521",
   "metadata": {},
   "outputs": [],
   "source": []
  }
 ],
 "metadata": {
  "kernelspec": {
   "display_name": "Python 3 (ipykernel)",
   "language": "python",
   "name": "python3"
  },
  "language_info": {
   "codemirror_mode": {
    "name": "ipython",
    "version": 3
   },
   "file_extension": ".py",
   "mimetype": "text/x-python",
   "name": "python",
   "nbconvert_exporter": "python",
   "pygments_lexer": "ipython3",
   "version": "3.10.9"
  }
 },
 "nbformat": 4,
 "nbformat_minor": 5
}
